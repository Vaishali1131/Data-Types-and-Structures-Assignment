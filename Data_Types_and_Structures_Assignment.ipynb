{
  "nbformat": 4,
  "nbformat_minor": 0,
  "metadata": {
    "colab": {
      "provenance": []
    },
    "kernelspec": {
      "name": "python3",
      "display_name": "Python 3"
    },
    "language_info": {
      "name": "python"
    }
  },
  "cells": [
    {
      "cell_type": "markdown",
      "source": [
        "Data Types and Structures Questions"
      ],
      "metadata": {
        "id": "0477QZyiNlFk"
      }
    },
    {
      "cell_type": "markdown",
      "source": [
        "1. What are data structures, and why are they important?\n",
        "   \n",
        "   - Data structures are fundamental ways to organize and store data in a computer so that it can be used efficiently. They are important because they allow for efficient access, modification, and management of data, which is crucial for developing efficient algorithms and software. Different data structures are suited for different purposes, and choosing the right one can significantly impact performance.\n",
        "\n"
      ],
      "metadata": {
        "id": "eHwXQWNR9Rbu"
      }
    },
    {
      "cell_type": "markdown",
      "source": [
        "2.  Explain the difference between mutable and immutable data types with examples?\n",
        "\n",
        "  - Mutable data types are those that can be changed after they are created. This means you can modify their contents or elements without creating a new object. Examples of mutable data types in Python include lists, dictionaries, and sets.\n",
        "\n",
        "   - Immutable data types, on the other hand, cannot be changed after they are created. If you need to modify an immutable object, you must create a new object with the desired changes. Examples of immutable data types in Python include strings, tuples, numbers (integers, floats), and booleans."
      ],
      "metadata": {
        "id": "K6nZ2o1k96M7"
      }
    },
    {
      "cell_type": "code",
      "source": [
        "my_list = [1, 2, 3]\n",
        "my_list.append(4)\n",
        "print(my_list)  # Output: [1, 2, 3, 4] - The original list was modified"
      ],
      "metadata": {
        "id": "AaB99GinAf3O"
      },
      "execution_count": null,
      "outputs": []
    },
    {
      "cell_type": "code",
      "source": [
        "my_string = \"hello\"\n",
        "# my_string[0] = \"H\" # This would raise a TypeError\n",
        "new_string = my_string.upper()\n",
        "print(my_string) # Output: hello - The original string remains unchanged\n",
        "print(new_string) # Output: HELLO - A new string object was created"
      ],
      "metadata": {
        "id": "ZxFKTKf2AjWd"
      },
      "execution_count": null,
      "outputs": []
    },
    {
      "cell_type": "markdown",
      "source": [
        "3. What are the main differences between lists and tuples in Python?\n",
        "\n",
        " - The main differences between lists and tuples in Python are their mutability, syntax, and typical use cases:\n",
        "\n",
        "  - Mutability: Lists are mutable, meaning you can change, add, or remove elements after the list is created. Tuples are immutable, meaning once a tuple is created, you cannot change its contents.\n",
        "  - Syntax: Lists are defined using square brackets [], while tuples are defined using parentheses ().\n",
        " - Use Cases:\n",
        "Lists are typically used for collections of items that might need to change during the program's execution (e.g., a list of items in a shopping cart).\n",
        "Tuples are typically used for fixed collections of items, especially when the order and number of items are important (e.g., coordinates, a record from a database). Because they are immutable, tuples can sometimes be slightly more performant than lists, especially for operations that involve checking membership or hashing (though this is usually a minor difference). Tuples can also be used as keys in dictionaries, which lists cannot be due to their mutability.\n",
        "Here's a quick summary:\n",
        "\n",
        " - Feature\tList\tTuple\n",
        "Mutability\tMutable\tImmutable\n",
        "Syntax\t[item1, item2, ...]\t(item1, item2, ...)\n",
        "Use Cases\tCollections that change\tFixed collections, records\n"
      ],
      "metadata": {
        "id": "0Bn9Fi9OAmtc"
      }
    },
    {
      "cell_type": "markdown",
      "source": [
        "4. Describe how dictionaries store data?\n",
        "\n",
        " - Dictionaries in Python store data as key-value pairs. Each key is unique within a dictionary, and it maps to a specific value. Think of it like a real-world dictionary where you look up a word (the key) to find its definition (the value).\n",
        "\n",
        " - Here's a breakdown of how they work:\n",
        "\n",
        " - Keys: Keys are used to access the values. They must be immutable data types (like strings, numbers, or tuples). This is because the dictionary uses a hashing mechanism to quickly find the value associated with a given key, and mutable objects can change their hash value, which would break this lookup.\n",
        "Values: Values can be any data type (mutable or immutable), including other dictionaries, lists, or custom objects.\n",
        "Mapping: The dictionary maintains a mapping between each key and its corresponding value. When you access a value using a key, the dictionary quickly finds the location of that value based on the key's hash.\n",
        "Unordered (in older Python versions): In older versions of Python (prior to 3.7), dictionaries did not guarantee insertion order. However, in Python 3.7 and later, dictionaries preserve the order in which items are inserted.\n",
        "Dynamic: Dictionaries are dynamic, meaning you can add, remove, or modify key-value pairs after the dictionary is created."
      ],
      "metadata": {
        "id": "YCg8fBZWBg8Y"
      }
    },
    {
      "cell_type": "code",
      "source": [
        "my_dict = {\n",
        "    \"name\": \"Alice\",\n",
        "    \"age\": 30,\n",
        "    \"city\": \"New York\"\n",
        "}\n",
        "\n",
        "# Accessing values using keys\n",
        "print(my_dict[\"name\"])  # Output: Alice\n",
        "\n",
        "# Adding a new key-value pair\n",
        "my_dict[\"occupation\"] = \"Engineer\"\n",
        "print(my_dict) # Output: {'name': 'Alice', 'age': 30, 'city': 'New York', 'occupation': 'Engineer'}\n",
        "\n",
        "# Modifying a value\n",
        "my_dict[\"age\"] = 31\n",
        "print(my_dict) # Output: {'name': 'Alice', 'age': 31, 'city': 'New York', 'occupation': 'Engineer'}"
      ],
      "metadata": {
        "id": "cP1ly2rXBwu6"
      },
      "execution_count": null,
      "outputs": []
    },
    {
      "cell_type": "markdown",
      "source": [
        " - Dictionaries are very efficient for lookups, insertions, and deletions when you know the key. They are widely used for storing and retrieving data based on a unique identifier."
      ],
      "metadata": {
        "id": "9NJGtu_xBx2m"
      }
    },
    {
      "cell_type": "markdown",
      "source": [
        "5. Why might you use a set instead of a list in Python?\n",
        "  - You might choose to use a set instead of a list in Python for a few key reasons, primarily related to their characteristics and intended use cases:\n",
        "\n",
        " - Uniqueness: Sets automatically store only unique elements. If you add a duplicate element to a set, it will simply be ignored. Lists, on the other hand, can contain duplicate elements. If you need a collection of distinct items and want to easily avoid duplicates, a set is the natural choice.\n",
        " -Membership Testing (Checking if an item is in the collection): Checking for membership (item in collection) is generally much faster in a set than in a list. Sets are implemented using hash tables, which allow for average O(1) time complexity for membership testing. Lists require iterating through the elements, resulting in average O(n) time complexity. If you frequently need to check if an element exists in a large collection, a set will be significantly more performant.\n",
        " -Mathematical Set Operations: Sets support mathematical set operations like union, intersection, difference, and symmetric difference directly through built-in methods and operators. These operations are efficient for sets. While you can perform similar operations on lists, it often requires more complex code and is less efficient.\n",
        " - Order is Not Important: Sets are inherently unordered collections (in versions prior to Python 3.7, and while insertion order is preserved in 3.7+, you generally shouldn't rely on it for logic). If the order of elements in your collection doesn't matter, using a set can be appropriate. Lists, on the other hand, maintain the order of elements as they are inserted.\n",
        " -Here's a summary of when you might prefer a set over a list:\n",
        "\n",
        "  - When you need a collection of unique items.\n",
        " -When you frequently need to check if an item is present in the collection.\n",
        "\n",
        " - When you need to perform mathematical set operations efficiently.\n",
        "\n",
        " - When the order of the elements does not matter."
      ],
      "metadata": {
        "id": "ZJsrF9yjDP1s"
      }
    },
    {
      "cell_type": "markdown",
      "source": [
        "6. What is a string in Python, and how is it different from a list?\n",
        "\n",
        " - A string in Python is a sequence of characters. It's used to represent text. Strings are immutable, meaning once you create a string, you cannot change individual characters within it. Any operation that appears to modify a string actually creates a new string.\n",
        "\n",
        "Here's how strings differ from lists:\n",
        "\n",
        "- Mutability: The most significant difference is mutability. Strings are immutable, while lists are mutable. This means you can change, add, or remove elements from a list after it's created, but you cannot do the same with a string.\n",
        "Data Type: Strings are specifically designed for sequences of characters. Lists can hold a collection of any data type (integers, floats, strings, other lists, etc.).\n",
        "- Syntax: Strings are typically enclosed in single quotes ('...'), double quotes (\"...\"), or triple quotes ('''...''' or \"\"\"...\"\"\"). Lists are defined using square brackets ([]).\n",
        "Operations: While both support slicing and indexing to access elements, the operations you can perform on them differ. You can append, extend, insert, or remove elements from a list, which you cannot do with a string. String-specific methods include things like upper(), lower(), replace(), split(), etc.\n",
        "\n",
        "Here are some examples to illustrate the differences:"
      ],
      "metadata": {
        "id": "rlSBZDkxELk3"
      }
    },
    {
      "cell_type": "markdown",
      "source": [
        "String (Immutable):"
      ],
      "metadata": {
        "id": "HbxVIExQEizO"
      }
    },
    {
      "source": [
        "my_string = \"hello\"\n",
        "# my_string[0] = \"H\"  # This would raise a TypeError\n",
        "new_string = my_string.upper()\n",
        "print(my_string)  # Output: hello\n",
        "print(new_string) # Output: HELLO (a new string is created)"
      ],
      "cell_type": "code",
      "metadata": {
        "id": "H6lrgJ-UEcxD"
      },
      "execution_count": null,
      "outputs": []
    },
    {
      "cell_type": "markdown",
      "source": [
        "List (Mutable):"
      ],
      "metadata": {
        "id": "FfNcqb5pEfKH"
      }
    },
    {
      "source": [
        "my_list = [1, 2, 3]\n",
        "my_list.append(4)\n",
        "print(my_list) # Output: [1, 2, 3, 4] (the original list is modified)\n",
        "\n",
        "my_list[0] = 10\n",
        "print(my_list) # Output: [10, 2, 3, 4] (an element is modified)"
      ],
      "cell_type": "code",
      "metadata": {
        "id": "o1y8qF_WEeDB"
      },
      "execution_count": null,
      "outputs": []
    },
    {
      "cell_type": "markdown",
      "source": [
        " 7. How do tuples ensure data integrity in Python?\n",
        "\n",
        " - Tuples ensure data integrity in Python primarily through their immutability.\n",
        "\n",
        "- Because tuples are immutable, once a tuple is created, its elements cannot be changed, added, or removed. This characteristic provides data integrity in several ways:\n",
        "\n",
        "- Prevents Accidental Modification: If you have a collection of data that should not be altered during the execution of your program (e.g., configuration settings, coordinates, database records), using a tuple guarantees that the data will remain constant. This prevents accidental modifications that could lead to errors or inconsistencies.\n",
        "Thread Safety (in some cases): In multi-threaded environments, mutable objects can be subject to race conditions where multiple threads try to modify the same data simultaneously, leading to unpredictable results. Immutable objects like tuples are inherently thread-safe because their state cannot be changed after creation.\n",
        "Suitable for Dictionary Keys and Set Elements: Because tuples are immutable and hashable (meaning they have a constant hash value that doesn't change), they can be used as keys in dictionaries and elements in sets. Lists, being mutable, cannot be used for these purposes because their contents can change, which would affect their hash value and break the lookup mechanism. Using tuples in this way ensures that the keys or elements remain consistent.\n",
        "In essence, the immutability of tuples acts as a safeguard, ensuring that the data they hold remains in its original state throughout the program's execution. This is particularly useful when you need to represent a fixed collection of related items where the integrity of that collection is important."
      ],
      "metadata": {
        "id": "QBcvWgEHEptI"
      }
    },
    {
      "cell_type": "markdown",
      "source": [
        "8. What is a hash table, and how does it relate to dictionaries in Python?\n",
        "\n",
        " - A hash table (also known as a hash map or dictionary) is a data structure that implements an associative array or dictionary. It stores data in key-value pairs. The key idea behind a hash table is to use a hash function to compute an index into an array of buckets or slots, from which the desired value can be found.\n",
        "\n",
        "- Here's how it works:\n",
        "\n",
        "- Hash Function: When you want to store a key-value pair, the hash function takes the key as input and produces a unique integer value called a hash code.\n",
        "Index Calculation: This hash code is then used to calculate an index within the hash table's underlying array. Often, this involves taking the hash code modulo the size of the array.\n",
        "Storage/Retrieval: The key-value pair is then stored at that calculated index (or in a linked list or other structure at that index to handle collisions). When you want to retrieve a value using a key, the same hash function and index calculation are used to quickly find the location where the value is stored.\n",
        "How it relates to dictionaries in Python:\n",
        "\n",
        "- In Python, dictionaries are implemented using hash tables.\n",
        "\n",
        "- When you add a key-value pair to a dictionary, Python calculates the hash of the key and uses it to determine where to store the pair internally.\n",
        "When you access a value using a key, Python calculates the hash of the key again and uses it to quickly locate the corresponding value.\n",
        "This hash table implementation is what makes dictionary lookups, insertions, and deletions very efficient, on average. The time complexity for these operations is typically O(1) (constant time), regardless of the number of items in the dictionary, assuming a good hash function that minimizes collisions.\n",
        "\n",
        "- In summary, hash tables are the underlying mechanism that powers Python dictionaries, enabling fast and efficient data storage and retrieval based on keys."
      ],
      "metadata": {
        "id": "PJQNNknfFNuQ"
      }
    },
    {
      "cell_type": "markdown",
      "source": [
        "9. Can lists contain different data types in Python?\n",
        "\n",
        "- Yes, absolutely! Lists in Python are designed to be versatile and can contain elements of different data types within the same list.\n",
        "\n",
        "- For example, you can have a list with integers, strings, floats, and even other lists or dictionaries:"
      ],
      "metadata": {
        "id": "r8zdRiTDFqkG"
      }
    },
    {
      "source": [
        "my_mixed_list = [1, \"hello\", 3.14, True, [5, 6], {\"name\": \"Alice\"}]\n",
        "print(my_mixed_list)"
      ],
      "cell_type": "code",
      "metadata": {
        "id": "RLWN4FSfF0UB"
      },
      "execution_count": null,
      "outputs": []
    },
    {
      "cell_type": "markdown",
      "source": [
        "- This is one of the key features that makes lists flexible for various programming tasks."
      ],
      "metadata": {
        "id": "vR0xIYxRF3ok"
      }
    },
    {
      "cell_type": "markdown",
      "source": [
        "10. Explain why strings are immutable in Python?\n",
        "\n",
        " - Strings are immutable in Python, meaning their contents cannot be changed after they are created. While this might seem like a limitation at first, it's a design choice with several benefits:\n",
        "\n",
        " -  Efficiency: String operations that appear to modify a string (like concatenation or slicing) actually create new string objects. While this might seem less efficient than modifying in place, it allows Python to optimize string operations in various ways, such as sharing memory for identical string literals.\n",
        " - Thread Safety: In multi-threaded environments, immutable objects are inherently thread-safe because their state cannot change after creation. This avoids potential issues like race conditions that can occur when multiple threads try to modify the same mutable object simultaneously.\n",
        " - Hashability: Immutable objects can be \"hashable,\" meaning they have a fixed hash value that doesn't change. This allows strings to be used as keys in dictionaries and elements in sets, which require their keys/elements to be hashable for efficient lookups. Mutable objects like lists cannot be used as dictionary keys because their hash value could change.\n",
        " - Predictability: The immutability of strings ensures that a string object will always represent the same sequence of characters. This predictability simplifies reasoning about code and prevents unexpected side effects that could arise from in-place modifications.\n",
        "\n",
        " - In essence, the immutability of strings is a trade-off that provides benefits in terms of efficiency, thread safety, hashability, and predictability, which are important for how strings are used and optimized within Python."
      ],
      "metadata": {
        "id": "LSha15aTGBE0"
      }
    },
    {
      "cell_type": "markdown",
      "source": [
        "11. What advantages do dictionaries offer over lists for certain tasks?\n",
        "\n",
        " - Dictionaries offer several key advantages over lists for certain tasks, primarily due to their fundamental structure of storing data as key-value pairs:\n",
        "\n",
        " - Fast Lookups, Insertions, and Deletions: This is the most significant advantage. Dictionaries use hash tables (as we discussed earlier), which allow for average O(1) time complexity for these operations. This means that retrieving, adding, or removing an item by its key is incredibly fast, regardless of how many items are in the dictionary. Lists, on the other hand, require searching through the elements, which takes O(n) time on average for lookups and deletions (where 'n' is the number of elements).\n",
        " - Data Association: Dictionaries excel at representing data where there's a natural association between pieces of information. For example, storing a person's attributes (name, age, city) is much more intuitive and accessible in a dictionary where you can use descriptive keys like \"name\", \"age\", and \"city\" rather than relying on numerical indices in a list.\n",
        " - Meaningful Keys: Dictionaries allow you to use meaningful keys (like strings or numbers) to access data, making your code more readable and understandable. With lists, you are limited to using integer indices, which can be less descriptive, especially in larger or more complex data structures.\n",
        " - No Reliance on Order: While dictionaries in newer Python versions maintain insertion order, their primary strength doesn't rely on it. You access elements by their key, not their position. This is beneficial when the order of items in your collection doesn't matter, and you need quick access based on a unique identifier.\n",
        " - Flexible Structure: Dictionaries are dynamic and can easily have new key-value pairs added or existing ones removed as your program runs. This makes them suitable for situations where the structure of your data might change.\n",
        "In summary, you would choose a dictionary over a list when:\n",
        "\n",
        " - You need very fast lookups, insertions, or deletions based on a specific identifier.\n",
        "You want to represent data as key-value pairs with meaningful labels.\n",
        "The order of the items in the collection is not critical."
      ],
      "metadata": {
        "id": "J5-zuDfFGim8"
      }
    },
    {
      "cell_type": "markdown",
      "source": [
        "12. Describe a scenario where using a tuple would be preferable over a list?\n",
        "\n",
        " - Scenario: Representing a geographical coordinate (latitude, longitude)\n",
        "\n",
        " - A geographical coordinate is a fixed pair of values (latitude and longitude) that together represent a specific location. These two values are intrinsically linked and their order is important (latitude comes first, then longitude). Furthermore, you generally don't want to accidentally change the latitude or longitude of a specific point after you've defined it.\n",
        "\n",
        " - Using a tuple to represent a coordinate like (34.0522, -118.2437) is preferable to a list [34.0522, -118.2437] because:\n",
        "\n",
        " - Immutability ensures data integrity: Once you create the tuple (34.0522, -118.2437), you are guaranteed that its values will remain 34.0522 and -118.2437. You cannot accidentally append another value, remove one of the coordinates, or change one of the numbers. If you used a list, you could easily make unintended modifications.\n",
        " - Semantic clarity: Using a tuple signals to other programmers (and yourself) that this collection is intended to be a fixed, ordered pair of values.\n",
        "Potential for use as dictionary keys or set elements: Since tuples are immutable, they are hashable and can be used as keys in dictionaries or elements in sets, which is often useful when working with collections of unique coordinates or mapping data to specific locations. Lists, being mutable, cannot be used in this way.\n",
        "So, for representing fixed records or collections where immutability and order are important, like coordinates, RGB color values, or database records, tuples are an excellent choice over lists."
      ],
      "metadata": {
        "id": "gVGPpCOGHIrr"
      }
    },
    {
      "cell_type": "markdown",
      "source": [
        " 13. How do sets handle duplicate values in Python?\n",
        "\n",
        " - Sets in Python are designed to store unique elements. This means that when you add elements to a set, any duplicate values are automatically ignored.\n",
        "\n",
        "Here's how it works:\n",
        "\n",
        " -  When adding elements: If you try to add an element that is already present in the set, the set simply does nothing and the set remains unchanged.\n",
        " - When creating a set from an iterable: If you create a set from a list or other iterable that contains duplicate values, the set will only include one instance of each unique value.\n",
        "- Let's look at an example:"
      ],
      "metadata": {
        "id": "qGaOY-qwHqAc"
      }
    },
    {
      "source": [
        "# Creating a list with duplicates\n",
        "my_list = [1, 2, 2, 3, 4, 4, 5]\n",
        "print(f\"Original list: {my_list}\")\n",
        "\n",
        "# Creating a set from the list\n",
        "my_set = set(my_list)\n",
        "print(f\"Set created from list: {my_set}\") # Output will only contain unique elements {1, 2, 3, 4, 5}\n",
        "\n",
        "# Trying to add a duplicate to the set\n",
        "my_set.add(3)\n",
        "print(f\"Set after adding a duplicate (3): {my_set}\") # The set remains unchanged {1, 2, 3, 4, 5}\n",
        "\n",
        "# Adding a new, unique element\n",
        "my_set.add(6)\n",
        "print(f\"Set after adding a new element (6): {my_set}\") # The new element is added {1, 2, 3, 4, 5, 6}"
      ],
      "cell_type": "code",
      "metadata": {
        "id": "mbU2Dd_YH9Pr"
      },
      "execution_count": null,
      "outputs": []
    },
    {
      "cell_type": "markdown",
      "source": [
        "- the set automatically handles and eliminates duplicate values, ensuring that each element in the set is unique. This is one of the primary use cases for sets in Python – to efficiently work with collections of distinct items."
      ],
      "metadata": {
        "id": "vVPIc3_5IBBX"
      }
    },
    {
      "cell_type": "markdown",
      "source": [
        "14. How does the “in” keyword work differently for lists and dictionaries?\n",
        "\n",
        " - The in keyword in Python is used for membership testing – checking if an element exists within a collection. While it serves the same purpose for both lists and dictionaries, how it works \"under the hood\" is significantly different, leading to a major difference in performance.\n",
        "\n",
        " - Here's the breakdown:\n",
        "\n",
        " - How in works for Lists:\n",
        " - When you use element in my_list, Python performs a linear search. It iterates through each element of the list, one by one, and compares it to the element you're looking for.\n",
        "\n",
        " - If the element is found, the search stops, and True is returned.\n",
        "If the element is not found after checking every element, False is returned.\n",
        "This means that in the worst-case scenario (the element is at the end of the list or not in the list at all), Python has to check every single element. This gives lists an average time complexity of O(n) for membership testing, where 'n' is the number of elements in the list. The time it takes grows linearly with the size of the list.\n",
        "\n",
        " - How in works for Dictionaries:\n",
        "\n",
        " - When you use key in my_dictionary, Python uses its underlying hash table implementation.\n",
        "\n",
        " -  It calculates the hash value of the key.\n",
        "It uses this hash value to quickly jump to a specific location (or \"bucket\") in the hash table where that key should be stored.\n",
        "In that location, it checks if the key exists.\n",
        "Because of this hashing mechanism, the lookup is typically very fast, regardless of the number of items in the dictionary. This gives dictionaries an average time complexity of O(1) for membership testing. The time it takes is constant, no matter how large the dictionary is (assuming a good hash function and minimal collisions).\n",
        "\n",
        " - In Summary:\n",
        "\n",
        "  - Feature\tLists (element in my_list)\tDictionaries (key in my_dictionary)\n",
        "Underlying Mechanism\tLinear search (checks elements one by one)\tHash table lookup (uses hash of the key)\n",
        "Average Time Complexity\tO(n) (linear with list size)\tO(1) (constant time)\n",
        "What is checked\tPresence of a specific element\tPresence of a specific key\n",
        "Practical Implication:\n",
        "\n",
        " - For small lists, the difference is negligible. However, for large collections, checking for membership in a dictionary using the in keyword is significantly faster than doing the same in a list.\n",
        "\n",
        " - Here's a simple code example to illustrate the concept (though you would need much larger data and timing code to see a significant performance difference):"
      ],
      "metadata": {
        "id": "H49RJ5L3IGGH"
      }
    },
    {
      "source": [
        "# For Lists\n",
        "my_list = [10, 20, 30, 40, 50]\n",
        "print(30 in my_list) # True (linear search finds 30)\n",
        "print(60 in my_list) # False (linear search checks all elements)\n",
        "\n",
        "# For Dictionaries\n",
        "my_dict = {\"apple\": 1, \"banana\": 2, \"cherry\": 3}\n",
        "print(\"banana\" in my_dict) # True (hash lookup finds \"banana\" key)\n",
        "print(\"grape\" in my_dict)  # False (hash lookup quickly determines \"grape\" key is not present)"
      ],
      "cell_type": "code",
      "metadata": {
        "id": "qLOqz-4II9M9"
      },
      "execution_count": null,
      "outputs": []
    },
    {
      "cell_type": "markdown",
      "source": [
        " - So, while in looks the same syntactically, its performance behavior is vastly different between lists and dictionaries due to their underlying implementations."
      ],
      "metadata": {
        "id": "oKanbpkmI-7d"
      }
    },
    {
      "cell_type": "markdown",
      "source": [
        "15. Can you modify the elements of a tuple? Explain why or why not?\n",
        "\n",
        " - No, you cannot modify the elements of a tuple after it has been created.\n",
        "\n",
        " - This is because tuples are immutable data types in Python. Immutability means that the state of the object cannot be changed after it is created. If you try to modify an element within a tuple, you will encounter a TypeError.\n",
        ""
      ],
      "metadata": {
        "id": "aUB1RHK8JER7"
      }
    },
    {
      "source": [
        "my_tuple = (1, 2, 3)\n",
        "# my_tuple[0] = 10  # This line would raise a TypeError"
      ],
      "cell_type": "code",
      "metadata": {
        "id": "kBupjfaUJnvc"
      },
      "execution_count": null,
      "outputs": []
    },
    {
      "cell_type": "markdown",
      "source": [
        " - Any operation that appears to \"modify\" a tuple, like concatenation or slicing, actually creates a new tuple with the desired changes. The original tuple remains unchanged.\n",
        "\n",
        " - This immutability is a key characteristic of tuples and provides benefits like data integrity and the ability to be used as dictionary keys or set elements."
      ],
      "metadata": {
        "id": "WimASqJqJoMG"
      }
    },
    {
      "cell_type": "markdown",
      "source": [
        "16. What is a nested dictionary, and give an example of its use case?\n",
        "  \n",
        "  - A nested dictionary is a dictionary where the values are themselves dictionaries. This allows you to create hierarchical data structures, representing relationships and organizing data in a more complex way than a simple key-value pair.\n",
        "\n",
        " - Think of it as a dictionary within a dictionary. The outer dictionary has keys that map to other dictionaries, and these inner dictionaries have their own key-value pairs.\n",
        "\n",
        " - Example Use Case: Representing data for multiple users\n",
        "\n",
        "  - Imagine you want to store information about several users, where each user has attributes like name, age, and city. You can use a nested dictionary where the outer keys are the user IDs (or names), and the values are dictionaries containing each user's details:"
      ],
      "metadata": {
        "id": "G9972EYzKy4-"
      }
    },
    {
      "source": [
        "user_data = {\n",
        "    \"user1\": {\n",
        "        \"name\": \"Alice\",\n",
        "        \"age\": 30,\n",
        "        \"city\": \"New York\"\n",
        "    },\n",
        "    \"user2\": {\n",
        "        \"name\": \"Bob\",\n",
        "        \"age\": 25,\n",
        "        \"city\": \"London\"\n",
        "    },\n",
        "    \"user3\": {\n",
        "        \"name\": \"Charlie\",\n",
        "        \"age\": 35,\n",
        "        \"city\": \"Paris\"\n",
        "    }\n",
        "}\n",
        "\n",
        "# Accessing data in a nested dictionary\n",
        "print(user_data[\"user1\"][\"name\"])    # Output: Alice\n",
        "print(user_data[\"user2\"][\"city\"])    # Output: London\n",
        "\n",
        "# Adding a new user\n",
        "user_data[\"user4\"] = {\n",
        "    \"name\": \"David\",\n",
        "    \"age\": 28,\n",
        "    \"city\": \"Tokyo\"\n",
        "}\n",
        "print(user_data[\"user4\"][\"name\"])    # Output: David"
      ],
      "cell_type": "code",
      "metadata": {
        "id": "G2YBHlYrLF0o"
      },
      "execution_count": null,
      "outputs": []
    },
    {
      "cell_type": "markdown",
      "source": [
        " - In this example, the outer dictionary user_data has keys \"user1\", \"user2\", and \"user3\". The value associated with each of these keys is another dictionary containing the specific details for that user. This structure makes it easy to organize and access information for different users by their unique identifier.\n",
        "\n",
        " - Nested dictionaries are powerful for representing structured data, such as JSON objects, configuration settings, or complex relationships between entities."
      ],
      "metadata": {
        "id": "G4143FTXLIAA"
      }
    },
    {
      "cell_type": "markdown",
      "source": [
        "17. Describe the time complexity of accessing elements in a dictionary?\n",
        "\n",
        "- The time complexity of accessing elements in a dictionary in Python is, on average, O(1) (constant time).\n",
        "\n",
        "- This means that the time it takes to retrieve a value using its key does not significantly increase with the size of the dictionary. Whether the dictionary has 10 items or 10 million items, the average time to access an element by its key is roughly the same.\n",
        "\n",
        "- This efficiency is due to the fact that Python dictionaries are implemented using hash tables. When you access an element with a key, Python:\n",
        "\n",
        "- Calculates the hash value of the key.\n",
        "Uses this hash value to directly calculate the memory location where the corresponding value is stored.\n",
        "This allows for very fast lookups.\n",
        "\n",
        "- However, in the worst-case scenario, the time complexity can degrade to O(n) (linear time), where 'n' is the number of items in the dictionary. This can happen in rare cases due to hash collisions. A hash collision occurs when two different keys produce the same hash value. When collisions happen, Python might need to perform a linear search within a smaller group of elements at that specific hash table location.\n",
        "\n",
        "- Fortunately, Python's dictionary implementation is highly optimized to minimize collisions, making the average case of O(1) the typical performance you'll observe in practice.\n",
        "\n",
        "- In summary:\n",
        "\n",
        "- Average Case: O(1) - very fast and independent of dictionary size.\n",
        "Worst Case: O(n) - can occur in rare cases of significant hash collisions.\n",
        "This is why dictionaries are highly favored for tasks requiring fast lookups, insertions, and deletions based on a key."
      ],
      "metadata": {
        "id": "42xUIb7KLUfH"
      }
    },
    {
      "cell_type": "markdown",
      "source": [
        " 18. In what situations are lists preferred over dictionaries?\n",
        "\n",
        "- While dictionaries offer advantages for fast lookups by key, there are several situations where lists are preferred over dictionaries in Python:\n",
        "\n",
        "- When the order of elements matters: Lists maintain the insertion order of elements. If the sequence or position of items is important to your task (e.g., a list of steps in a process, a history of transactions, or elements in a specific display order), a list is the appropriate data structure. Dictionaries, while preserving insertion order in newer Python versions (3.7+), are fundamentally designed for key-based access, and relying solely on insertion order for logic can be less explicit than using a list.\n",
        "When you need to store duplicate elements: Lists can easily store multiple occurrences of the same element. If your data naturally includes duplicates and you need to preserve them (e.g., a list of all items purchased, where a user might buy the same item multiple times), a list is the necessary choice. Sets automatically remove duplicates, and dictionaries store unique keys.\n",
        "- When you need to access elements by their position (index): Lists provide efficient access to elements based on their numerical index (e.g., my_list[0], my_list[5]). If your task involves frequently accessing or manipulating elements based on their position in the sequence, lists are well-suited. Dictionary access is based on keys, not numerical position.\n",
        "When you need a simple, ordered collection without unique identifiers: For straightforward, ordered collections of items where you don't have unique keys for each item, a list is simpler and more direct than trying to use a dictionary.\n",
        "- When the collection is relatively small and performance difference is negligible: For small collections, the performance difference between list and dictionary operations (like membership testing or insertion) is often negligible. In such cases, if a list's characteristics (order, duplicates) are a better fit for the data, using a list is perfectly fine and can sometimes be more readable.\n",
        "In summary, choose a list when:\n",
        "\n",
        "- The order of items is important.\n",
        "You need to store duplicate items.\n",
        "You need to access items by their numerical index.\n",
        "You need a simple, ordered collection without unique identifiers for each item."
      ],
      "metadata": {
        "id": "hzf-xHTcLu2X"
      }
    },
    {
      "cell_type": "markdown",
      "source": [
        "19. Why are dictionaries considered unordered, and how does that affect data retrieval?\n",
        "\n",
        "- The reason for this was the underlying implementation using hash tables. Hash tables store elements based on the hash of the key, which doesn't necessarily maintain insertion order. When you iterated through a dictionary, the order you got the items back could seem arbitrary or dependent on the internal hashing and collision resolution.\n",
        "\n",
        "- How that affected data retrieval (in older Python versions):\n",
        "\n",
        "- No reliance on insertion order: You could not rely on retrieving elements from a dictionary in the same sequence you added them. If your logic depended on a specific order, you would need to explicitly sort the keys or values after retrieval, or use a different data structure like a list of tuples.\n",
        "Iteration order could change: The order of iteration could even change between different runs of the same program or across different Python versions due to changes in the hashing algorithm or internal implementation details.\n",
        "The change in Python 3.7+:\n",
        "\n",
        "\n",
        "- How this affects data retrieval now (in Python 3.7+):\n",
        "\n",
        "- Order is predictable: You can now rely on iterating through a dictionary in the order the items were inserted.\n",
        "Backward compatibility: Although the order is guaranteed, it's still a good practice to access dictionary elements by their key, as that's the fundamental design principle of dictionaries and provides the O(1) efficiency. Relying solely on insertion order for critical logic might make your code less clear about why that specific order is needed, compared to using a list where order is an inherent characteristic.\n",
        "So, the historical reason for dictionaries being unordered was their hash table implementation. While this is still the underlying structure for efficient key-based access, Python 3.7 and later guarantee insertion order, making data retrieval through iteration predictable."
      ],
      "metadata": {
        "id": "UkgE8ByLMINy"
      }
    },
    {
      "cell_type": "markdown",
      "source": [
        "20. Explain the difference between a list and a dictionary in terms of data retrieval.\n",
        "\n",
        "- The difference in data retrieval between a list and a dictionary in Python lies in how you identify and access the specific data you want to retrieve.\n",
        "\n",
        "- Here's a breakdown:\n",
        "\n",
        "- Data Retrieval in Lists:\n",
        "\n",
        "- Method: You retrieve data from a list using its numerical index (position) within the list. Indices start from 0 for the first element.\n",
        "How it works: When you access my_list[index], Python goes directly to that position in the list's underlying structure to retrieve the element.\n",
        "Performance (Average): Accessing an element by index is generally very fast, often considered O(1) on average, especially for retrieving elements at the beginning or end of the list. However, some operations involving finding elements by value (like checking membership with in) can be slower (O(n)) because Python might need to iterate through the list.\n",
        "Analogy: Imagine a numbered list of items. To find an item, you go to its number in the list.\n",
        "Data Retrieval in Dictionaries:\n",
        "\n",
        "- Method: You retrieve data from a dictionary using its key.\n",
        "How it works: When you access my_dictionary[key], Python uses the key's hash value to quickly determine the location where the corresponding value is stored in its internal hash table.\n",
        "Performance (Average): Accessing a value by its key in a dictionary is typically very fast, with an average time complexity of O(1). This is because the hash function allows Python to jump directly to the likely location of the value.\n",
        "Analogy: Imagine a real-world dictionary. To find a definition, you look up the word (the key) to find its meaning (the value).\n",
        "In Summary:\n",
        "\n",
        "- Feature\tLists\tDictionaries\n",
        "Retrieval Method\tBy numerical index (position)\tBy key\n",
        "How it works\tDirect access by position\tHash-based lookup by key\n",
        "Avg. Performance\tO(1) for indexed access\tO(1) for key access\n",
        "Essentially, if you know the position of the item you want, use a list and its index. If you have a unique identifier (a key) for the data you want to retrieve, a dictionary is the more efficient and semantically appropriate choice."
      ],
      "metadata": {
        "id": "uLCsTIpIMmNQ"
      }
    },
    {
      "cell_type": "markdown",
      "source": [
        "Practical Questions"
      ],
      "metadata": {
        "id": "KVfuTViGNhyL"
      }
    },
    {
      "cell_type": "markdown",
      "source": [
        "1. Write a code to create a string with your name and print it?"
      ],
      "metadata": {
        "id": "YuQfeqwlNuSS"
      }
    },
    {
      "cell_type": "code",
      "metadata": {
        "colab": {
          "base_uri": "https://localhost:8080/"
        },
        "id": "50648edb",
        "outputId": "50d874ea-7534-43c3-a970-a8ef552d6d88"
      },
      "source": [
        "my_name = \"Vaishali\"\n",
        "print(my_name)"
      ],
      "execution_count": 2,
      "outputs": [
        {
          "output_type": "stream",
          "name": "stdout",
          "text": [
            "Vaishali\n"
          ]
        }
      ]
    },
    {
      "cell_type": "markdown",
      "source": [
        "2.Write a code to find the length of the string \"Hello World\"?"
      ],
      "metadata": {
        "id": "-EzEfKGGOXny"
      }
    },
    {
      "cell_type": "code",
      "metadata": {
        "colab": {
          "base_uri": "https://localhost:8080/"
        },
        "id": "ef18d16d",
        "outputId": "a1fcce01-8c43-413a-94af-042c4e0b4fe4"
      },
      "source": [
        "my_string = \"Hello World\"\n",
        "string_length = len(my_string)\n",
        "print(f\"The length of the string is: {string_length}\")"
      ],
      "execution_count": 3,
      "outputs": [
        {
          "output_type": "stream",
          "name": "stdout",
          "text": [
            "The length of the string is: 11\n"
          ]
        }
      ]
    },
    {
      "cell_type": "markdown",
      "source": [
        "3.Write a code to slice the first 3 characters from the string \"Python Programming\"?"
      ],
      "metadata": {
        "id": "i8ghbKrAOpuq"
      }
    },
    {
      "cell_type": "code",
      "metadata": {
        "colab": {
          "base_uri": "https://localhost:8080/"
        },
        "id": "5691d5ec",
        "outputId": "a84d7e2c-4915-4d97-b23c-a5c91d5d1d1f"
      },
      "source": [
        "my_string = \"Python Programming\"\n",
        "sliced_string = my_string[:3]\n",
        "print(f\"The original string is: {my_string}\")\n",
        "print(f\"The first 3 characters are: {sliced_string}\")"
      ],
      "execution_count": 4,
      "outputs": [
        {
          "output_type": "stream",
          "name": "stdout",
          "text": [
            "The original string is: Python Programming\n",
            "The first 3 characters are: Pyt\n"
          ]
        }
      ]
    },
    {
      "cell_type": "markdown",
      "source": [
        "4. Write a code to convert the string \"hello\" to uppercase?"
      ],
      "metadata": {
        "id": "zZeXoTZVOyWP"
      }
    },
    {
      "cell_type": "code",
      "metadata": {
        "colab": {
          "base_uri": "https://localhost:8080/"
        },
        "id": "28f37edf",
        "outputId": "b282b4f2-1bc1-40eb-d08f-58033fcc9b4d"
      },
      "source": [
        "my_string = \"hello\"\n",
        "uppercase_string = my_string.upper()\n",
        "print(f\"Original string: {my_string}\")\n",
        "print(f\"Uppercase string: {uppercase_string}\")"
      ],
      "execution_count": 5,
      "outputs": [
        {
          "output_type": "stream",
          "name": "stdout",
          "text": [
            "Original string: hello\n",
            "Uppercase string: HELLO\n"
          ]
        }
      ]
    },
    {
      "cell_type": "markdown",
      "source": [
        "5. Write a code to replace the word \"apple\" with \"orange\" in the string \"I like apple\"?"
      ],
      "metadata": {
        "id": "sGmYrXNqO51a"
      }
    },
    {
      "cell_type": "code",
      "metadata": {
        "colab": {
          "base_uri": "https://localhost:8080/"
        },
        "id": "3cfb044d",
        "outputId": "b07383c5-4e10-4290-e401-707b900372b3"
      },
      "source": [
        "my_string = \"I like apple\"\n",
        "new_string = my_string.replace(\"apple\", \"orange\")\n",
        "print(f\"Original string: {my_string}\")\n",
        "print(f\"String after replacement: {new_string}\")"
      ],
      "execution_count": 6,
      "outputs": [
        {
          "output_type": "stream",
          "name": "stdout",
          "text": [
            "Original string: I like apple\n",
            "String after replacement: I like orange\n"
          ]
        }
      ]
    },
    {
      "cell_type": "markdown",
      "source": [
        "6.  Write a code to create a list with numbers 1 to 5 and print it?"
      ],
      "metadata": {
        "id": "3z8mRUcyPBWI"
      }
    },
    {
      "cell_type": "code",
      "metadata": {
        "colab": {
          "base_uri": "https://localhost:8080/"
        },
        "id": "d3d357aa",
        "outputId": "f0a18fdd-75e3-457f-ea1a-8b415e1a50cc"
      },
      "source": [
        "my_list = [1, 2, 3, 4, 5]\n",
        "print(my_list)"
      ],
      "execution_count": 7,
      "outputs": [
        {
          "output_type": "stream",
          "name": "stdout",
          "text": [
            "[1, 2, 3, 4, 5]\n"
          ]
        }
      ]
    },
    {
      "cell_type": "markdown",
      "source": [
        "7. Write a code to append the number 10 to the list [1, 2, 3, 4]"
      ],
      "metadata": {
        "id": "L4uSVISrPROg"
      }
    },
    {
      "cell_type": "code",
      "metadata": {
        "colab": {
          "base_uri": "https://localhost:8080/"
        },
        "id": "f789de1d",
        "outputId": "27885267-44e8-4bdb-86af-596b024f4a6a"
      },
      "source": [
        "my_list = [1, 2, 3, 4]\n",
        "my_list.append(10)\n",
        "print(my_list)"
      ],
      "execution_count": 8,
      "outputs": [
        {
          "output_type": "stream",
          "name": "stdout",
          "text": [
            "[1, 2, 3, 4, 10]\n"
          ]
        }
      ]
    },
    {
      "cell_type": "markdown",
      "source": [
        "8. Write a code to remove the number 3 from the list [1, 2, 3, 4, 5]?"
      ],
      "metadata": {
        "id": "IGFOK5aBPiKm"
      }
    },
    {
      "cell_type": "code",
      "metadata": {
        "colab": {
          "base_uri": "https://localhost:8080/"
        },
        "id": "e9585414",
        "outputId": "3fab118f-9086-4e6b-b7a6-da19b187f920"
      },
      "source": [
        "my_list = [1, 2, 3, 4, 5]\n",
        "my_list.remove(3)\n",
        "print(my_list)"
      ],
      "execution_count": 9,
      "outputs": [
        {
          "output_type": "stream",
          "name": "stdout",
          "text": [
            "[1, 2, 4, 5]\n"
          ]
        }
      ]
    },
    {
      "cell_type": "markdown",
      "source": [
        "9. Write a code to access the second element in the list ['a', 'b', 'c', 'd']"
      ],
      "metadata": {
        "id": "Zq-ZQItrPwgS"
      }
    },
    {
      "cell_type": "code",
      "metadata": {
        "colab": {
          "base_uri": "https://localhost:8080/"
        },
        "id": "dd8e337e",
        "outputId": "69430a8b-3172-4b41-ebbd-9051f0d09838"
      },
      "source": [
        "my_list = ['a', 'b', 'c', 'd']\n",
        "second_element = my_list[1]\n",
        "print(f\"The list is: {my_list}\")\n",
        "print(f\"The second element is: {second_element}\")"
      ],
      "execution_count": 10,
      "outputs": [
        {
          "output_type": "stream",
          "name": "stdout",
          "text": [
            "The list is: ['a', 'b', 'c', 'd']\n",
            "The second element is: b\n"
          ]
        }
      ]
    },
    {
      "cell_type": "markdown",
      "source": [
        "10. Write a code to reverse the list [10, 20, 30, 40, 50]."
      ],
      "metadata": {
        "id": "5PhLzrHpP4xM"
      }
    },
    {
      "cell_type": "code",
      "metadata": {
        "colab": {
          "base_uri": "https://localhost:8080/"
        },
        "id": "9eec2e1a",
        "outputId": "4feb6fac-e928-4e5f-e136-f586c5f876c0"
      },
      "source": [
        "my_list = [10, 20, 30, 40, 50]\n",
        "my_list.reverse()\n",
        "print(my_list)"
      ],
      "execution_count": 11,
      "outputs": [
        {
          "output_type": "stream",
          "name": "stdout",
          "text": [
            "[50, 40, 30, 20, 10]\n"
          ]
        }
      ]
    },
    {
      "cell_type": "markdown",
      "source": [
        " 11. Write a code to create a tuple with the elements 100, 200, 300 and print it."
      ],
      "metadata": {
        "id": "YkVEHSjyQAK3"
      }
    },
    {
      "cell_type": "code",
      "metadata": {
        "colab": {
          "base_uri": "https://localhost:8080/"
        },
        "id": "dfce8dfb",
        "outputId": "16ca1b32-f7ba-40b2-caa8-e34ebce8571e"
      },
      "source": [
        "my_tuple = (100, 200, 300)\n",
        "print(my_tuple)"
      ],
      "execution_count": 12,
      "outputs": [
        {
          "output_type": "stream",
          "name": "stdout",
          "text": [
            "(100, 200, 300)\n"
          ]
        }
      ]
    },
    {
      "cell_type": "markdown",
      "source": [
        "12. Write a code to access the second-to-last element of the tuple ('red', 'green', 'blue', 'yellow')."
      ],
      "metadata": {
        "id": "Dz3DebY_RLnK"
      }
    },
    {
      "cell_type": "code",
      "metadata": {
        "colab": {
          "base_uri": "https://localhost:8080/"
        },
        "id": "9ae0ffd4",
        "outputId": "1a2aab69-0db6-4320-ffc0-167b4136806e"
      },
      "source": [
        "my_tuple = ('red', 'green', 'blue', 'yellow')\n",
        "second_to_last_element = my_tuple[-2]\n",
        "print(f\"The tuple is: {my_tuple}\")\n",
        "print(f\"The second-to-last element is: {second_to_last_element}\")"
      ],
      "execution_count": 13,
      "outputs": [
        {
          "output_type": "stream",
          "name": "stdout",
          "text": [
            "The tuple is: ('red', 'green', 'blue', 'yellow')\n",
            "The second-to-last element is: blue\n"
          ]
        }
      ]
    },
    {
      "cell_type": "markdown",
      "source": [
        " 13.Write a code to find the minimum number in the tuple (10, 20, 5, 15)."
      ],
      "metadata": {
        "id": "_jfnNNIXRoXU"
      }
    },
    {
      "cell_type": "code",
      "metadata": {
        "colab": {
          "base_uri": "https://localhost:8080/"
        },
        "id": "dfa66081",
        "outputId": "ecf3aaf8-4ebc-45cf-9272-2ed3d4c589c7"
      },
      "source": [
        "my_tuple = (10, 20, 5, 15)\n",
        "minimum_number = min(my_tuple)\n",
        "print(f\"The tuple is: {my_tuple}\")\n",
        "print(f\"The minimum number is: {minimum_number}\")"
      ],
      "execution_count": 14,
      "outputs": [
        {
          "output_type": "stream",
          "name": "stdout",
          "text": [
            "The tuple is: (10, 20, 5, 15)\n",
            "The minimum number is: 5\n"
          ]
        }
      ]
    },
    {
      "cell_type": "markdown",
      "source": [
        "14. Write a code to find the index of the element \"cat\" in the tuple ('dog', 'cat', 'rabbit')."
      ],
      "metadata": {
        "id": "RI2IyPVFR5hG"
      }
    },
    {
      "cell_type": "code",
      "metadata": {
        "colab": {
          "base_uri": "https://localhost:8080/"
        },
        "id": "db9ed0ef",
        "outputId": "fe718fa2-bb70-4107-f1b9-ef1e96b2baf6"
      },
      "source": [
        "my_tuple = ('dog', 'cat', 'rabbit')\n",
        "index_of_cat = my_tuple.index('cat')\n",
        "print(f\"The tuple is: {my_tuple}\")\n",
        "print(f\"The index of 'cat' is: {index_of_cat}\")"
      ],
      "execution_count": 15,
      "outputs": [
        {
          "output_type": "stream",
          "name": "stdout",
          "text": [
            "The tuple is: ('dog', 'cat', 'rabbit')\n",
            "The index of 'cat' is: 1\n"
          ]
        }
      ]
    },
    {
      "cell_type": "markdown",
      "source": [
        "15. Write a code to create a tuple containing three different fruits and check if \"kiwi\" is in it."
      ],
      "metadata": {
        "id": "8P2tcqYDSFlw"
      }
    },
    {
      "cell_type": "code",
      "metadata": {
        "colab": {
          "base_uri": "https://localhost:8080/"
        },
        "id": "d02426e3",
        "outputId": "efb55511-1266-4aa7-a11e-fbc8652fdd95"
      },
      "source": [
        "# Create a tuple of fruits\n",
        "fruit_tuple = ('apple', 'banana', 'orange')\n",
        "\n",
        "# Check if \"kiwi\" is in the tuple\n",
        "is_kiwi_in_tuple = \"kiwi\" in fruit_tuple\n",
        "\n",
        "print(f\"The tuple of fruits is: {fruit_tuple}\")\n",
        "print(f\"Is 'kiwi' in the tuple? {is_kiwi_in_tuple}\")\n",
        "\n",
        "# You can also check for an element that is in the tuple\n",
        "is_apple_in_tuple = \"apple\" in fruit_tuple\n",
        "print(f\"Is 'apple' in the tuple? {is_apple_in_tuple}\")"
      ],
      "execution_count": 16,
      "outputs": [
        {
          "output_type": "stream",
          "name": "stdout",
          "text": [
            "The tuple of fruits is: ('apple', 'banana', 'orange')\n",
            "Is 'kiwi' in the tuple? False\n",
            "Is 'apple' in the tuple? True\n"
          ]
        }
      ]
    },
    {
      "cell_type": "markdown",
      "source": [
        "16. Write a code to create a set with the elements 'a', 'b', 'c' and print it."
      ],
      "metadata": {
        "id": "HGsNXKdXSNf8"
      }
    },
    {
      "cell_type": "code",
      "metadata": {
        "colab": {
          "base_uri": "https://localhost:8080/"
        },
        "id": "ced09897",
        "outputId": "34c88459-7210-415b-9d09-b2e1a60da060"
      },
      "source": [
        "my_set = {'a', 'b', 'c'}\n",
        "print(my_set)"
      ],
      "execution_count": 17,
      "outputs": [
        {
          "output_type": "stream",
          "name": "stdout",
          "text": [
            "{'b', 'c', 'a'}\n"
          ]
        }
      ]
    },
    {
      "cell_type": "markdown",
      "source": [
        "17. Write a code to clear all elements from the set {1, 2, 3, 4, 5}."
      ],
      "metadata": {
        "id": "LcMVwWt6Sl1y"
      }
    },
    {
      "cell_type": "code",
      "metadata": {
        "colab": {
          "base_uri": "https://localhost:8080/"
        },
        "id": "a4b8dabc",
        "outputId": "5258a4dd-96c0-4f55-f720-112215ca487b"
      },
      "source": [
        "my_set = {1, 2, 3, 4, 5}\n",
        "print(f\"Original set: {my_set}\")\n",
        "\n",
        "my_set.clear()\n",
        "print(f\"Set after clearing: {my_set}\")"
      ],
      "execution_count": 18,
      "outputs": [
        {
          "output_type": "stream",
          "name": "stdout",
          "text": [
            "Original set: {1, 2, 3, 4, 5}\n",
            "Set after clearing: set()\n"
          ]
        }
      ]
    },
    {
      "cell_type": "markdown",
      "source": [
        " 18. Write a code to remove the element 4 from the set {1, 2, 3, 4}."
      ],
      "metadata": {
        "id": "PBYtHmMRSvwe"
      }
    },
    {
      "cell_type": "code",
      "metadata": {
        "colab": {
          "base_uri": "https://localhost:8080/"
        },
        "id": "cd5d0cf5",
        "outputId": "1454340f-8ff0-4145-bf9a-c742b5318f16"
      },
      "source": [
        "my_set = {1, 2, 3, 4}\n",
        "print(f\"Original set: {my_set}\")\n",
        "\n",
        "my_set.remove(4)\n",
        "print(f\"Set after removing 4: {my_set}\")"
      ],
      "execution_count": 19,
      "outputs": [
        {
          "output_type": "stream",
          "name": "stdout",
          "text": [
            "Original set: {1, 2, 3, 4}\n",
            "Set after removing 4: {1, 2, 3}\n"
          ]
        }
      ]
    },
    {
      "cell_type": "markdown",
      "source": [
        "19. Write a code to find the union of two sets {1, 2, 3} and {3, 4, 5}."
      ],
      "metadata": {
        "id": "_x_1ThH_S5Ug"
      }
    },
    {
      "cell_type": "code",
      "metadata": {
        "colab": {
          "base_uri": "https://localhost:8080/"
        },
        "id": "188c8175",
        "outputId": "7a854415-4622-4c91-ea21-fcdebe1d4131"
      },
      "source": [
        "set1 = {1, 2, 3}\n",
        "set2 = {3, 4, 5}\n",
        "\n",
        "# Find the union of the two sets\n",
        "union_set = set1 | set2\n",
        "\n",
        "print(f\"Set 1: {set1}\")\n",
        "print(f\"Set 2: {set2}\")\n",
        "print(f\"Union of Set 1 and Set 2: {union_set}\")"
      ],
      "execution_count": 20,
      "outputs": [
        {
          "output_type": "stream",
          "name": "stdout",
          "text": [
            "Set 1: {1, 2, 3}\n",
            "Set 2: {3, 4, 5}\n",
            "Union of Set 1 and Set 2: {1, 2, 3, 4, 5}\n"
          ]
        }
      ]
    },
    {
      "cell_type": "markdown",
      "source": [
        "20. Write a code to find the intersection of two sets {1, 2, 3} and {2, 3, 4}"
      ],
      "metadata": {
        "id": "xxk9mbZhTA-X"
      }
    },
    {
      "cell_type": "code",
      "metadata": {
        "colab": {
          "base_uri": "https://localhost:8080/"
        },
        "id": "e00d7bd4",
        "outputId": "5fe33781-f380-494d-b65f-cfee616803b0"
      },
      "source": [
        "set1 = {1, 2, 3}\n",
        "set2 = {2, 3, 4}\n",
        "\n",
        "# Find the intersection of the two sets\n",
        "intersection_set = set1 & set2\n",
        "\n",
        "print(f\"Set 1: {set1}\")\n",
        "print(f\"Set 2: {set2}\")\n",
        "print(f\"Intersection of Set 1 and Set 2: {intersection_set}\")"
      ],
      "execution_count": 21,
      "outputs": [
        {
          "output_type": "stream",
          "name": "stdout",
          "text": [
            "Set 1: {1, 2, 3}\n",
            "Set 2: {2, 3, 4}\n",
            "Intersection of Set 1 and Set 2: {2, 3}\n"
          ]
        }
      ]
    },
    {
      "cell_type": "markdown",
      "source": [
        "21. Write a code to create a dictionary with the keys \"name\", \"age\", and \"city\", and print it."
      ],
      "metadata": {
        "id": "O-3_3bOjTJjH"
      }
    },
    {
      "cell_type": "code",
      "metadata": {
        "colab": {
          "base_uri": "https://localhost:8080/"
        },
        "id": "200d7bd4",
        "outputId": "a52a6c43-394d-45eb-9bd2-f61958ca2051"
      },
      "source": [
        "my_dict = {\n",
        "    \"name\": \"Vaishali\",\n",
        "    \"age\": 27,\n",
        "    \"city\": \"Kolkata\"\n",
        "}\n",
        "\n",
        "print(my_dict)"
      ],
      "execution_count": 22,
      "outputs": [
        {
          "output_type": "stream",
          "name": "stdout",
          "text": [
            "{'name': 'Vaishali', 'age': 27, 'city': 'Kolkata'}\n"
          ]
        }
      ]
    },
    {
      "cell_type": "markdown",
      "source": [
        "22. Write a code to add a new key-value pair \"country\": \"USA\" to the dictionary {'name': 'John', 'age': 25}."
      ],
      "metadata": {
        "id": "XvjW5xWgTbwm"
      }
    },
    {
      "cell_type": "code",
      "metadata": {
        "colab": {
          "base_uri": "https://localhost:8080/"
        },
        "id": "8cc46825",
        "outputId": "304bbd59-d88f-415b-fbb3-4acbf5265d60"
      },
      "source": [
        "my_dict = {'name': 'John', 'age': 25}\n",
        "my_dict[\"country\"] = \"USA\"\n",
        "print(my_dict)"
      ],
      "execution_count": 23,
      "outputs": [
        {
          "output_type": "stream",
          "name": "stdout",
          "text": [
            "{'name': 'John', 'age': 25, 'country': 'USA'}\n"
          ]
        }
      ]
    },
    {
      "cell_type": "markdown",
      "source": [
        "23. Write a code to access the value associated with the key \"name\" in the dictionary {'name': 'Alice', 'age': 30}."
      ],
      "metadata": {
        "id": "W15CgGPKToFS"
      }
    },
    {
      "cell_type": "code",
      "metadata": {
        "colab": {
          "base_uri": "https://localhost:8080/"
        },
        "id": "7f4f3987",
        "outputId": "e5a23138-a566-47cb-ce97-8a60eee91af0"
      },
      "source": [
        "my_dict = {'name': 'Alice', 'age': 30}\n",
        "name_value = my_dict[\"name\"]\n",
        "print(f\"The dictionary is: {my_dict}\")\n",
        "print(f\"The value for the key 'name' is: {name_value}\")"
      ],
      "execution_count": 24,
      "outputs": [
        {
          "output_type": "stream",
          "name": "stdout",
          "text": [
            "The dictionary is: {'name': 'Alice', 'age': 30}\n",
            "The value for the key 'name' is: Alice\n"
          ]
        }
      ]
    },
    {
      "cell_type": "markdown",
      "source": [
        "24. Write a code to remove the key \"age\" from the dictionary {'name': 'Bob', 'age': 22, 'city': 'New York'}."
      ],
      "metadata": {
        "id": "_FXy11aLTwq_"
      }
    },
    {
      "cell_type": "code",
      "metadata": {
        "colab": {
          "base_uri": "https://localhost:8080/"
        },
        "id": "a75d9a02",
        "outputId": "36c75d0d-8e52-41c5-c41f-f5094b14d170"
      },
      "source": [
        "my_dict = {'name': 'Bob', 'age': 22, 'city': 'New York'}\n",
        "print(f\"Original dictionary: {my_dict}\")\n",
        "\n",
        "del my_dict[\"age\"]\n",
        "print(f\"Dictionary after removing 'age': {my_dict}\")"
      ],
      "execution_count": 25,
      "outputs": [
        {
          "output_type": "stream",
          "name": "stdout",
          "text": [
            "Original dictionary: {'name': 'Bob', 'age': 22, 'city': 'New York'}\n",
            "Dictionary after removing 'age': {'name': 'Bob', 'city': 'New York'}\n"
          ]
        }
      ]
    },
    {
      "cell_type": "markdown",
      "source": [
        "25. Write a code to check if the key \"city\" exists in the dictionary {'name': 'Alice', 'city': 'Paris'}."
      ],
      "metadata": {
        "id": "yJHY1TGDT29W"
      }
    },
    {
      "cell_type": "code",
      "metadata": {
        "colab": {
          "base_uri": "https://localhost:8080/"
        },
        "id": "6269a74e",
        "outputId": "87ec4a00-32b6-4cca-bf5c-148de416440f"
      },
      "source": [
        "my_dict = {'name': 'Alice', 'city': 'Paris'}\n",
        "\n",
        "# Check if the key \"city\" exists in the dictionary\n",
        "key_exists = \"city\" in my_dict\n",
        "\n",
        "print(f\"The dictionary is: {my_dict}\")\n",
        "print(f\"Does the key 'city' exist? {key_exists}\")\n",
        "\n",
        "# You can also check for a key that does not exist\n",
        "key_does_not_exist = \"country\" in my_dict\n",
        "print(f\"Does the key 'country' exist? {key_does_not_exist}\")"
      ],
      "execution_count": 26,
      "outputs": [
        {
          "output_type": "stream",
          "name": "stdout",
          "text": [
            "The dictionary is: {'name': 'Alice', 'city': 'Paris'}\n",
            "Does the key 'city' exist? True\n",
            "Does the key 'country' exist? False\n"
          ]
        }
      ]
    },
    {
      "cell_type": "markdown",
      "source": [
        "26. Write a code to create a list, a tuple, and a dictionary, and print them all."
      ],
      "metadata": {
        "id": "gGdGYve7UBg7"
      }
    },
    {
      "cell_type": "code",
      "metadata": {
        "colab": {
          "base_uri": "https://localhost:8080/"
        },
        "id": "2b744a4b",
        "outputId": "16d5906f-91fe-47e2-ee23-5d0aba940fd0"
      },
      "source": [
        "# Create a list\n",
        "my_list = [1, 2, 3, 'a', 'b']\n",
        "\n",
        "# Create a tuple\n",
        "my_tuple = (10, 20, 30, 'x', 'y')\n",
        "\n",
        "# Create a dictionary\n",
        "my_dict = {\n",
        "    \"fruit\": \"apple\",\n",
        "    \"color\": \"red\",\n",
        "    \"quantity\": 5\n",
        "}\n",
        "\n",
        "# Print all three data structures\n",
        "print(\"My List:\", my_list)\n",
        "print(\"My Tuple:\", my_tuple)\n",
        "print(\"My Dictionary:\", my_dict)"
      ],
      "execution_count": 27,
      "outputs": [
        {
          "output_type": "stream",
          "name": "stdout",
          "text": [
            "My List: [1, 2, 3, 'a', 'b']\n",
            "My Tuple: (10, 20, 30, 'x', 'y')\n",
            "My Dictionary: {'fruit': 'apple', 'color': 'red', 'quantity': 5}\n"
          ]
        }
      ]
    },
    {
      "cell_type": "markdown",
      "source": [
        "27. Write a code to create a list of 5 random numbers between 1 and 100, sort it in ascending order, and print the\n",
        "result.(replaced)"
      ],
      "metadata": {
        "id": "nA54ES2fUGjw"
      }
    },
    {
      "cell_type": "code",
      "metadata": {
        "colab": {
          "base_uri": "https://localhost:8080/"
        },
        "id": "f09c48a9",
        "outputId": "b000fbb4-98bd-4913-8e32-d76920339239"
      },
      "source": [
        "import random\n",
        "\n",
        "# Create a list of 5 random numbers between 1 and 100\n",
        "random_numbers = [random.randint(1, 100) for _ in range(5)]\n",
        "print(f\"Original list of random numbers: {random_numbers}\")\n",
        "\n",
        "# Sort the list in ascending order\n",
        "random_numbers.sort()\n",
        "\n",
        "print(f\"Sorted list of random numbers: {random_numbers}\")"
      ],
      "execution_count": 28,
      "outputs": [
        {
          "output_type": "stream",
          "name": "stdout",
          "text": [
            "Original list of random numbers: [15, 60, 57, 71, 21]\n",
            "Sorted list of random numbers: [15, 21, 57, 60, 71]\n"
          ]
        }
      ]
    },
    {
      "cell_type": "markdown",
      "source": [
        "28. Write a code to create a list with strings and print the element at the third index."
      ],
      "metadata": {
        "id": "ktsGpZ9AUM12"
      }
    },
    {
      "cell_type": "code",
      "metadata": {
        "colab": {
          "base_uri": "https://localhost:8080/"
        },
        "id": "96989394",
        "outputId": "e289a73e-6880-40cc-b1c0-f33c01e99101"
      },
      "source": [
        "# Create a list of strings\n",
        "my_string_list = [\"apple\", \"banana\", \"cherry\", \"date\", \"elderberry\"]\n",
        "\n",
        "# Access and print the element at the third index (index 2)\n",
        "element_at_third_index = my_string_list[2]\n",
        "\n",
        "print(f\"The list of strings is: {my_string_list}\")\n",
        "print(f\"The element at the third index is: {element_at_third_index}\")"
      ],
      "execution_count": 29,
      "outputs": [
        {
          "output_type": "stream",
          "name": "stdout",
          "text": [
            "The list of strings is: ['apple', 'banana', 'cherry', 'date', 'elderberry']\n",
            "The element at the third index is: cherry\n"
          ]
        }
      ]
    },
    {
      "cell_type": "markdown",
      "source": [
        "29. Write a code to combine two dictionaries into one and print the result."
      ],
      "metadata": {
        "id": "fjqjapKpUTC_"
      }
    },
    {
      "cell_type": "code",
      "metadata": {
        "colab": {
          "base_uri": "https://localhost:8080/"
        },
        "id": "547b5f7e",
        "outputId": "a7c1b178-7622-4f08-b52e-218a4588d9cf"
      },
      "source": [
        "dict1 = {'a': 1, 'b': 2}\n",
        "dict2 = {'c': 3, 'd': 4}\n",
        "\n",
        "# Combine the two dictionaries\n",
        "combined_dict = {**dict1, **dict2}\n",
        "\n",
        "print(f\"Dictionary 1: {dict1}\")\n",
        "print(f\"Dictionary 2: {dict2}\")\n",
        "print(f\"Combined Dictionary: {combined_dict}\")"
      ],
      "execution_count": 30,
      "outputs": [
        {
          "output_type": "stream",
          "name": "stdout",
          "text": [
            "Dictionary 1: {'a': 1, 'b': 2}\n",
            "Dictionary 2: {'c': 3, 'd': 4}\n",
            "Combined Dictionary: {'a': 1, 'b': 2, 'c': 3, 'd': 4}\n"
          ]
        }
      ]
    },
    {
      "cell_type": "markdown",
      "source": [
        "30. Write a code to convert a list of strings into a set."
      ],
      "metadata": {
        "id": "vxwRGcOFUZFU"
      }
    },
    {
      "cell_type": "code",
      "metadata": {
        "colab": {
          "base_uri": "https://localhost:8080/"
        },
        "id": "606867c6",
        "outputId": "114963af-150a-4906-c372-ded5682b7ab7"
      },
      "source": [
        "my_list_of_strings = [\"apple\", \"banana\", \"cherry\", \"apple\", \"date\"]\n",
        "print(f\"Original list: {my_list_of_strings}\")\n",
        "\n",
        "# Convert the list to a set\n",
        "my_set_from_list = set(my_list_of_strings)\n",
        "\n",
        "print(f\"Set created from list: {my_set_from_list}\")"
      ],
      "execution_count": 31,
      "outputs": [
        {
          "output_type": "stream",
          "name": "stdout",
          "text": [
            "Original list: ['apple', 'banana', 'cherry', 'apple', 'date']\n",
            "Set created from list: {'cherry', 'banana', 'date', 'apple'}\n"
          ]
        }
      ]
    }
  ]
}